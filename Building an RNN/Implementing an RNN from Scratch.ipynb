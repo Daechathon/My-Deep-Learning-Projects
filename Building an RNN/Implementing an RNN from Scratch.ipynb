{
 "cells": [
  {
   "cell_type": "code",
   "execution_count": 20,
   "metadata": {
    "collapsed": true
   },
   "outputs": [],
   "source": [
    "import numpy as np"
   ]
  },
  {
   "cell_type": "code",
   "execution_count": 21,
   "metadata": {
    "collapsed": true
   },
   "outputs": [],
   "source": [
    "data = open(\"kafka.txt\",'r').read()"
   ]
  },
  {
   "cell_type": "code",
   "execution_count": 22,
   "metadata": {},
   "outputs": [
    {
     "name": "stdout",
     "output_type": "stream",
     "text": [
      "Data consists of vocalbulary having 81 unique chars, and dataset having 137628 chars\n"
     ]
    }
   ],
   "source": [
    "chars = list(set(data))\n",
    "data_size, vocab_size = len(data), len(chars)\n",
    "print(\"Data consists of vocalbulary having {} unique chars, and dataset having {} chars\".format(vocab_size,data_size))"
   ]
  },
  {
   "cell_type": "code",
   "execution_count": 23,
   "metadata": {
    "collapsed": true
   },
   "outputs": [],
   "source": [
    "# convert integers to characters and vice versa which would be referenced further ahead.\n",
    "char_to_ints = {ch:i for i,ch in enumerate(chars)}\n",
    "ints_to_char = {i:ch for i,ch in enumerate(chars)}"
   ]
  },
  {
   "cell_type": "code",
   "execution_count": 24,
   "metadata": {},
   "outputs": [
    {
     "name": "stdout",
     "output_type": "stream",
     "text": [
      "{'D': 0, 'K': 1, 'w': 2, 't': 3, 'U': 4, ' ': 5, ',': 6, 'v': 7, 'c': 8, 'O': 9, '-': 10, 'k': 11, 'M': 12, 'P': 13, 'e': 14, 'p': 15, 'b': 16, '\"': 17, 'L': 18, 'R': 19, '*': 20, 'f': 21, 'Y': 22, '0': 23, '3': 24, 'h': 25, 'J': 26, ':': 27, '1': 28, '(': 29, 's': 30, 'X': 31, \"'\": 32, 'I': 33, '§': 34, 'F': 35, '$': 36, '/': 37, 'n': 38, 'r': 39, 'T': 40, '?': 41, ';': 42, 'x': 43, '9': 44, 'l': 45, 'Ã': 46, 'y': 47, 'i': 48, 'o': 49, 'G': 50, 'V': 51, '6': 52, 'E': 53, 'g': 54, 'H': 55, ')': 56, 'W': 57, '8': 58, 'j': 59, 'N': 60, 'B': 61, '7': 62, '%': 63, 'q': 64, 'd': 65, 'u': 66, '2': 67, 'C': 68, 'm': 69, 'Q': 70, '4': 71, '@': 72, 'S': 73, 'z': 74, '!': 75, 'A': 76, '5': 77, '.': 78, 'a': 79, '\\n': 80}\n",
      "{0: 'D', 1: 'K', 2: 'w', 3: 't', 4: 'U', 5: ' ', 6: ',', 7: 'v', 8: 'c', 9: 'O', 10: '-', 11: 'k', 12: 'M', 13: 'P', 14: 'e', 15: 'p', 16: 'b', 17: '\"', 18: 'L', 19: 'R', 20: '*', 21: 'f', 22: 'Y', 23: '0', 24: '3', 25: 'h', 26: 'J', 27: ':', 28: '1', 29: '(', 30: 's', 31: 'X', 32: \"'\", 33: 'I', 34: '§', 35: 'F', 36: '$', 37: '/', 38: 'n', 39: 'r', 40: 'T', 41: '?', 42: ';', 43: 'x', 44: '9', 45: 'l', 46: 'Ã', 47: 'y', 48: 'i', 49: 'o', 50: 'G', 51: 'V', 52: '6', 53: 'E', 54: 'g', 55: 'H', 56: ')', 57: 'W', 58: '8', 59: 'j', 60: 'N', 61: 'B', 62: '7', 63: '%', 64: 'q', 65: 'd', 66: 'u', 67: '2', 68: 'C', 69: 'm', 70: 'Q', 71: '4', 72: '@', 73: 'S', 74: 'z', 75: '!', 76: 'A', 77: '5', 78: '.', 79: 'a', 80: '\\n'}\n"
     ]
    }
   ],
   "source": [
    "print(char_to_ints)\n",
    "print(ints_to_char)"
   ]
  },
  {
   "cell_type": "code",
   "execution_count": 25,
   "metadata": {},
   "outputs": [
    {
     "name": "stdout",
     "output_type": "stream",
     "text": [
      "[ 0.  0.  0.  0.  0.  0.  0.  0.  0.  0.  0.  0.  0.  0.  0.  0.  0.  0.\n",
      "  0.  0.  0.  0.  0.  0.  0.  0.  0.  0.  0.  0.  0.  0.  0.  0.  0.  0.\n",
      "  0.  0.  0.  0.  0.  0.  0.  0.  0.  0.  0.  0.  0.  0.  0.  0.  0.  0.\n",
      "  0.  0.  0.  0.  0.  0.  0.  0.  0.  0.  0.  0.  0.  0.  0.  0.  0.  0.\n",
      "  0.  0.  0.  0.  0.  0.  0.  1.  0.]\n"
     ]
    }
   ],
   "source": [
    "# vector for char a\n",
    "\n",
    "vector_for_a = np.zeros((len(chars),1))\n",
    "vector_for_a[char_to_ints['a']]=1\n",
    "print(vector_for_a.ravel())\n"
   ]
  },
  {
   "cell_type": "code",
   "execution_count": 26,
   "metadata": {},
   "outputs": [],
   "source": [
    "# build a model\n",
    "\n",
    "# hyperparameter\n",
    "\n",
    "hidden_size = 100\n",
    "seq_length = 25\n",
    "learning_rate = 1e-1"
   ]
  },
  {
   "cell_type": "code",
   "execution_count": 28,
   "metadata": {},
   "outputs": [],
   "source": [
    "# model parameter\n",
    "\n",
    "# input to hidden stage weight\n",
    "Wxh = np.random.randn(hidden_size,vocab_size)*0.01\n",
    "\n",
    "# Recurrent weight matrix, hidden to hidden\n",
    "Whh = np.random.randn(hidden_size, hidden_size) * 0.01 \n",
    "\n",
    "# hidden state to output value\n",
    "Why = np.random.randn(vocab_size, hidden_size) * 0.01 \n",
    "\n",
    "# bias to hidden\n",
    "bh = np.zeros((hidden_size, 1))\n",
    "\n",
    "# bias to output\n",
    "by = np.zeros((vocab_size, 1))\n",
    "\n"
   ]
  },
  {
   "cell_type": "code",
   "execution_count": null,
   "metadata": {
    "collapsed": true
   },
   "outputs": [],
   "source": []
  }
 ],
 "metadata": {
  "kernelspec": {
   "display_name": "Python 3",
   "language": "python",
   "name": "python3"
  },
  "language_info": {
   "codemirror_mode": {
    "name": "ipython",
    "version": 3
   },
   "file_extension": ".py",
   "mimetype": "text/x-python",
   "name": "python",
   "nbconvert_exporter": "python",
   "pygments_lexer": "ipython3",
   "version": "3.6.1"
  }
 },
 "nbformat": 4,
 "nbformat_minor": 2
}
