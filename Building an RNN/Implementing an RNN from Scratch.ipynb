{
 "cells": [
  {
   "cell_type": "code",
   "execution_count": 2,
   "metadata": {
    "collapsed": true
   },
   "outputs": [],
   "source": [
    "import numpy as np"
   ]
  },
  {
   "cell_type": "code",
   "execution_count": 3,
   "metadata": {
    "collapsed": true
   },
   "outputs": [],
   "source": [
    "data = open(\"kafka.txt\",'r').read()"
   ]
  },
  {
   "cell_type": "code",
   "execution_count": 4,
   "metadata": {},
   "outputs": [
    {
     "name": "stdout",
     "output_type": "stream",
     "text": [
      "Data consists of vocalbulary having 81 unique chars, and dataset having 137628 chars\n"
     ]
    }
   ],
   "source": [
    "chars = list(set(data))\n",
    "print(\"Data consists of vocalbulary having {} unique chars, and dataset having {} chars\".format(len(chars),len(data)))"
   ]
  },
  {
   "cell_type": "code",
   "execution_count": 5,
   "metadata": {
    "collapsed": true
   },
   "outputs": [],
   "source": [
    "char_to_ix = {ch:i for i,ch in enumerate(chars)}\n",
    "ix_to_char = {i:ch for i,ch in enumerate(chars)}"
   ]
  },
  {
   "cell_type": "code",
   "execution_count": 6,
   "metadata": {},
   "outputs": [
    {
     "name": "stdout",
     "output_type": "stream",
     "text": [
      "{'D': 0, 'K': 1, 'w': 2, 't': 3, 'U': 4, ' ': 5, ',': 6, 'v': 7, 'c': 8, 'O': 9, '-': 10, 'k': 11, 'M': 12, 'P': 13, 'e': 14, 'p': 15, 'b': 16, '\"': 17, 'L': 18, 'R': 19, '*': 20, 'f': 21, 'Y': 22, '0': 23, '3': 24, 'h': 25, 'J': 26, ':': 27, '1': 28, '(': 29, 's': 30, 'X': 31, \"'\": 32, 'I': 33, '§': 34, 'F': 35, '$': 36, '/': 37, 'n': 38, 'r': 39, 'T': 40, '?': 41, ';': 42, 'x': 43, '9': 44, 'l': 45, 'Ã': 46, 'y': 47, 'i': 48, 'o': 49, 'G': 50, 'V': 51, '6': 52, 'E': 53, 'g': 54, 'H': 55, ')': 56, 'W': 57, '8': 58, 'j': 59, 'N': 60, 'B': 61, '7': 62, '%': 63, 'q': 64, 'd': 65, 'u': 66, '2': 67, 'C': 68, 'm': 69, 'Q': 70, '4': 71, '@': 72, 'S': 73, 'z': 74, '!': 75, 'A': 76, '5': 77, '.': 78, 'a': 79, '\\n': 80}\n",
      "{0: 'D', 1: 'K', 2: 'w', 3: 't', 4: 'U', 5: ' ', 6: ',', 7: 'v', 8: 'c', 9: 'O', 10: '-', 11: 'k', 12: 'M', 13: 'P', 14: 'e', 15: 'p', 16: 'b', 17: '\"', 18: 'L', 19: 'R', 20: '*', 21: 'f', 22: 'Y', 23: '0', 24: '3', 25: 'h', 26: 'J', 27: ':', 28: '1', 29: '(', 30: 's', 31: 'X', 32: \"'\", 33: 'I', 34: '§', 35: 'F', 36: '$', 37: '/', 38: 'n', 39: 'r', 40: 'T', 41: '?', 42: ';', 43: 'x', 44: '9', 45: 'l', 46: 'Ã', 47: 'y', 48: 'i', 49: 'o', 50: 'G', 51: 'V', 52: '6', 53: 'E', 54: 'g', 55: 'H', 56: ')', 57: 'W', 58: '8', 59: 'j', 60: 'N', 61: 'B', 62: '7', 63: '%', 64: 'q', 65: 'd', 66: 'u', 67: '2', 68: 'C', 69: 'm', 70: 'Q', 71: '4', 72: '@', 73: 'S', 74: 'z', 75: '!', 76: 'A', 77: '5', 78: '.', 79: 'a', 80: '\\n'}\n"
     ]
    }
   ],
   "source": [
    "print(char_to_ix)\n",
    "print(ix_to_char)"
   ]
  },
  {
   "cell_type": "code",
   "execution_count": 38,
   "metadata": {},
   "outputs": [
    {
     "data": {
      "text/plain": [
       "array([[0, 0, 0, ..., 0, 0, 0],\n",
       "       [0, 0, 0, ..., 0, 0, 0],\n",
       "       [0, 0, 0, ..., 0, 0, 0],\n",
       "       ..., \n",
       "       [0, 0, 0, ..., 0, 0, 0],\n",
       "       [0, 0, 0, ..., 0, 0, 0],\n",
       "       [0, 0, 0, ..., 0, 0, 0]], dtype=int64)"
      ]
     },
     "execution_count": 38,
     "metadata": {},
     "output_type": "execute_result"
    }
   ],
   "source": [
    "from sklearn.feature_extraction.text import CountVectorizer\n",
    "vectorizer = CountVectorizer(vocabulary=chars)\n",
    "vec = vectorizer.fit_transform(chars)\n",
    "vec.toarray()"
   ]
  },
  {
   "cell_type": "code",
   "execution_count": null,
   "metadata": {
    "collapsed": true
   },
   "outputs": [],
   "source": []
  }
 ],
 "metadata": {
  "kernelspec": {
   "display_name": "Python 3",
   "language": "python",
   "name": "python3"
  },
  "language_info": {
   "codemirror_mode": {
    "name": "ipython",
    "version": 3
   },
   "file_extension": ".py",
   "mimetype": "text/x-python",
   "name": "python",
   "nbconvert_exporter": "python",
   "pygments_lexer": "ipython3",
   "version": "3.6.1"
  }
 },
 "nbformat": 4,
 "nbformat_minor": 2
}
